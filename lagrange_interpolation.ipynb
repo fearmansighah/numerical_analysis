{
 "cells": [
  {
   "cell_type": "code",
   "execution_count": 16,
   "metadata": {},
   "outputs": [],
   "source": [
    "from sympy import *\n",
    "x = symbols('x')"
   ]
  },
  {
   "cell_type": "code",
   "execution_count": 17,
   "metadata": {},
   "outputs": [],
   "source": [
    "import numpy as np\n",
    "X = np.array([-3,0,1,2])\n",
    "Y = np.array([-3**3,0,1,2**3])\n",
    "n = len(X)"
   ]
  },
  {
   "cell_type": "code",
   "execution_count": 18,
   "metadata": {},
   "outputs": [
    {
     "data": {
      "text/latex": [
       "$\\displaystyle x^{3}$"
      ],
      "text/plain": [
       "x**3"
      ]
     },
     "execution_count": 18,
     "metadata": {},
     "output_type": "execute_result"
    }
   ],
   "source": [
    "L = 0 #  initialise L = 0\n",
    "for j in range(n): # summation operator\n",
    "    \n",
    "    product = 1 # reset product for each next j-th iteration\n",
    "    for m in range(n): # product operator\n",
    "        if m == j:\n",
    "            continue # skip to next j+1-th iteration if true\n",
    "        product = product*(x-X[m])/(X[j]-X[m])        \n",
    "    \n",
    "    L = L + Y[j]*product \n",
    "        \n",
    "expand(L)"
   ]
  },
  {
   "cell_type": "code",
   "execution_count": 19,
   "metadata": {},
   "outputs": [
    {
     "data": {
      "image/png": "[encoded data removed]",
      "text/plain": [
       "<Figure size 432x288 with 1 Axes>"
      ]
     },
     "metadata": {
      "needs_background": "light"
     },
     "output_type": "display_data"
    },
    {
     "data": {
      "text/plain": [
       "<sympy.plotting.plot.Plot at 0x27a105b4848>"
      ]
     },
     "execution_count": 19,
     "metadata": {},
     "output_type": "execute_result"
    }
   ],
   "source": [
    "plot(L,show=True,xlim=(-10,10),ylim=(-5,10))"
   ]
  },
  {
   "cell_type": "code",
   "execution_count": 24,
   "metadata": {},
   "outputs": [
    {
     "name": "stdout",
     "output_type": "stream",
     "text": [
      "2\n"
     ]
    },
    {
     "data": {
      "text/latex": [
       "$\\displaystyle \\frac{9 x^{2}}{2} - \\frac{27 x}{2} + 9$"
      ],
      "text/plain": [
       "9*x**2/2 - 27*x/2 + 9"
      ]
     },
     "execution_count": 24,
     "metadata": {},
     "output_type": "execute_result"
    }
   ],
   "source": [
    "# to check for j-th element\n",
    "X = np.array([1,2,3])\n",
    "Y = np.array([1,4,9])\n",
    "n = len(X)\n",
    "j = int(input())\n",
    "\n",
    "product = 1 # initialise product = 1 for every j iteration\n",
    "for m in range(n): # product operator\n",
    "    if m == j:\n",
    "        continue\n",
    "    product = product*(x-X[m])/(X[j]-X[m])\n",
    "\n",
    "expand (product*Y[j])"
   ]
  }
 ],
 "metadata": {
  "kernelspec": {
   "display_name": "Python 3",
   "language": "python",
   "name": "python3"
  },
  "language_info": {
   "codemirror_mode": {
    "name": "ipython",
    "version": 3
   },
   "file_extension": ".py",
   "mimetype": "text/x-python",
   "name": "python",
   "nbconvert_exporter": "python",
   "pygments_lexer": "ipython3",
   "version": "3.7.6"
  }
 },
 "nbformat": 4,
 "nbformat_minor": 4
}
